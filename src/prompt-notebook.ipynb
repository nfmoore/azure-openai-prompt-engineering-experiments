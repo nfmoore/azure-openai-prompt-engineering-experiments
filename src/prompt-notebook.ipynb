{
 "cells": [
  {
   "attachments": {},
   "cell_type": "markdown",
   "metadata": {},
   "source": [
    "# Prompt Engineering Experiments with GPT-3.5 on Azure OpenAI\n",
    "\n",
    "Prompt engineering is an essential part of working with Azure OpenAI. In this Jupyter notebook, we explore prompt engineering experiments with Azure OpenAI. We will also provide examples of how to use prompt engineering can be used to generate better results across several use-cases. By the end of this notebook, you will have a better understanding of how to use prompt engineering with Azure OpenAI and how it can help you build better models.\n",
    "\n",
    "**Before executing this notebook ensure all dependencies have been installed.**"
   ]
  },
  {
   "attachments": {},
   "cell_type": "markdown",
   "metadata": {},
   "source": [
    "### Load dependencies and connect to Azure OpenAI"
   ]
  },
  {
   "cell_type": "code",
   "execution_count": null,
   "metadata": {},
   "outputs": [],
   "source": [
    "import os\n",
    "import openai\n",
    "from dotenv import load_dotenv\n",
    "\n",
    "_ = load_dotenv()\n",
    "\n",
    "api_key = os.environ.get('OPENAI_API_KEY')\n",
    "resource_name = os.environ.get('AZURE_RESOURCE_NAME')\n",
    "\n",
    "openai.api_type = \"azure\"\n",
    "openai.api_key = api_key\n",
    "openai.api_base = f\"https://{resource_name}.openai.azure.com/\"\n",
    "openai.api_version = \"2023-03-15-preview\""
   ]
  },
  {
   "attachments": {},
   "cell_type": "markdown",
   "metadata": {},
   "source": [
    "### Setup helper functions"
   ]
  },
  {
   "cell_type": "code",
   "execution_count": null,
   "metadata": {},
   "outputs": [],
   "source": [
    "def generate_text(prompt: str, model: str = \"gpt-3.5-turbo\"):\n",
    "    deployment_name = os.environ.get('OPENAI_DEPLOYMENT_NAME')\n",
    "    messages = [{\"role\": \"user\", \"content\": prompt}]\n",
    "\n",
    "    response = openai.ChatCompletion.create(\n",
    "        engine=deployment_name,\n",
    "        model=\"gpt-3.5-turbo\",\n",
    "        messages=messages,\n",
    "        temperature=0,\n",
    "        max_tokens=2048,\n",
    "        top_p=0.95,\n",
    "        frequency_penalty=0,\n",
    "        presence_penalty=0,\n",
    "        stop=None\n",
    "    )\n",
    "\n",
    "    return response.choices[0].message[\"content\"]\n",
    "\n",
    "\n",
    "def read_txt_file(file_name: str):\n",
    "    with open(file_name, \"r\") as file:\n",
    "        data = file.read()\n",
    "    return data\n"
   ]
  },
  {
   "attachments": {},
   "cell_type": "markdown",
   "metadata": {},
   "source": [
    "### Perform experiments with Azure OpenAI\n",
    "\n",
    "Two publically available texts have been used in these experiments:\n",
    "\n",
    "- [Microsft 2022 Shareholder Letter](https://www.microsoft.com/investor/reports/ar22/download-center/)\n",
    "- [Reuters news article on the Microsoft acquisition of Activision Blizzard](https://www.nasdaq.com/articles/uk-blocks-microsoft-$69-bln-activision-deal-over-cloud-gaming-concerns)"
   ]
  },
  {
   "attachments": {},
   "cell_type": "markdown",
   "metadata": {},
   "source": []
  },
  {
   "cell_type": "code",
   "execution_count": null,
   "metadata": {},
   "outputs": [],
   "source": [
    "# Load Microsft 2022 Shareholder Letter\n",
    "shareholder_letter_data = read_txt_file(\n",
    "    \"../data/microsoft-2022-shareholder-letter.txt\")\n",
    "\n",
    "# Load Reuters news article on the Microsoft acquisition of Activision Blizzard\n",
    "company_announcement_data = read_txt_file(\n",
    "    \"../data/reuters-microsoft-activision-aquisition-article.txt\")"
   ]
  },
  {
   "attachments": {},
   "cell_type": "markdown",
   "metadata": {},
   "source": [
    "#### Text sumarization"
   ]
  },
  {
   "cell_type": "code",
   "execution_count": null,
   "metadata": {},
   "outputs": [],
   "source": [
    "# Text sumarization - attempt 1\n",
    "prompt = f\"\"\"\n",
    "    Summarise five of the most topics that are being discussed in \\\n",
    "    the text between the square brackets below.\n",
    "\n",
    "    Make sure each summary is a maximum of two sentences. \n",
    "    \n",
    "    Text: [{shareholder_letter_data}]\n",
    "\"\"\"\n",
    "\n",
    "print(generate_text(prompt))"
   ]
  },
  {
   "cell_type": "code",
   "execution_count": null,
   "metadata": {},
   "outputs": [],
   "source": [
    "# Text sumarization - attempt 2\n",
    "prompt = f\"\"\"\n",
    "    Identify five important themes in the text between the square brackets below and \\\n",
    "        provide a summary of each.\n",
    "\n",
    "    Make sure each summary is a maximum of two sentences. \n",
    "    \n",
    "    To make the response easier to read, format the response as a series of bullet points \\\n",
    "        that start with a key theme and follow with the summary seperated by a colon.\n",
    "        \n",
    "    Text: [{shareholder_letter_data}]\n",
    "\"\"\"\n",
    "\n",
    "print(generate_text(prompt))"
   ]
  },
  {
   "attachments": {},
   "cell_type": "markdown",
   "metadata": {},
   "source": [
    "#### Information retrieval"
   ]
  },
  {
   "cell_type": "code",
   "execution_count": null,
   "metadata": {},
   "outputs": [],
   "source": [
    "# Information retrieval - attempt 1\n",
    "prompt = f\"\"\"\n",
    "    Summarise the three biggest opportunities Microsoft intends to persue in 2023 \\\n",
    "        in the text between the square brackets below.\n",
    "\n",
    "    Make sure each summary is a maximum of one sentences. Display the results as bullet points.\n",
    "    \n",
    "    Text: [{shareholder_letter_data}]\n",
    "\"\"\"\n",
    "\n",
    "print(generate_text(prompt))"
   ]
  },
  {
   "cell_type": "code",
   "execution_count": null,
   "metadata": {},
   "outputs": [],
   "source": [
    "# Information retrieval - attempt 2\n",
    "prompt = f\"\"\"\n",
    "    Your job is to extract a maxiumum of the three biggest opportunities Microsoft \\\n",
    "        will persue in the year of 2023 referenced in the text between the square \\\n",
    "        brackets below that are explicity referenced to occur in the year of 2023.\n",
    "    \n",
    "    If the text does not reference an opportunity that will occur in 2023 do not display it. \\\n",
    "        Return \"No 2023 opportunities listed\" if no opportunities are referenced.\n",
    "\n",
    "    Display the results as bullet points.\n",
    "    \n",
    "    Text: [{shareholder_letter_data}]\n",
    "\"\"\"\n",
    "\n",
    "print(generate_text(prompt))"
   ]
  },
  {
   "attachments": {},
   "cell_type": "markdown",
   "metadata": {},
   "source": [
    "#### Entity recognition\n"
   ]
  },
  {
   "cell_type": "code",
   "execution_count": null,
   "metadata": {},
   "outputs": [],
   "source": [
    "# Entity recognition - attempt 1\n",
    "prompt = f\"\"\"\n",
    "    Identify all entities listed in the text between the square brackets below.\n",
    "    \n",
    "    Text: [{shareholder_letter_data}]\n",
    "\"\"\"\n",
    "\n",
    "print(generate_text(prompt))\n"
   ]
  },
  {
   "cell_type": "code",
   "execution_count": null,
   "metadata": {},
   "outputs": [],
   "source": [
    "# Entity recognition - attempt 2\n",
    "prompt = f\"\"\"\n",
    "    Identify all entities listed in the text between the square brackets below.\n",
    "\n",
    "    For the purpose of this task an entiity is defined as a \"person\", \"organization\", or \"location\".\n",
    "\n",
    "    Display the results as JSON.\n",
    "    \n",
    "    Text: [{shareholder_letter_data}]\n",
    "\"\"\"\n",
    "\n",
    "print(generate_text(prompt))\n"
   ]
  },
  {
   "cell_type": "code",
   "execution_count": null,
   "metadata": {},
   "outputs": [],
   "source": [
    "# Entity recognition - attempt 3\n",
    "prompt = f\"\"\"\n",
    "    Identify all entities listed in the text between the square brackets below.\n",
    "\n",
    "    For the purpose of this task an entiity is defined as a \"person\", \"organization\", or \"location\". \\\n",
    "        Limit your response to specific entities - ignore vauge responses like \"employees\".\n",
    "\n",
    "    Display the results as JSON. The key will be the entity type that corresponds to a list of entitiy values.\n",
    "    \n",
    "    Text: [{shareholder_letter_data}]\n",
    "\"\"\"\n",
    "\n",
    "print(generate_text(prompt))\n"
   ]
  },
  {
   "attachments": {},
   "cell_type": "markdown",
   "metadata": {},
   "source": [
    "#### Sentiment analysis"
   ]
  },
  {
   "cell_type": "code",
   "execution_count": null,
   "metadata": {},
   "outputs": [],
   "source": [
    "\n",
    "# Sentiment analysis - attempt 1\n",
    "prompt = f\"\"\"\n",
    "    What is the sentiment of the text between the square brackets below.\n",
    "    \n",
    "    Text: [{company_announcement_data}]\n",
    "\"\"\"\n",
    "\n",
    "print(generate_text(prompt))\n"
   ]
  },
  {
   "cell_type": "code",
   "execution_count": null,
   "metadata": {},
   "outputs": [],
   "source": [
    "# Sentiment analysis - attempt 2\n",
    "prompt = f\"\"\"\n",
    "    Your task is to act as a financial analyst and determine the sentiment \\\n",
    "        of of the text between the square brackets below.\n",
    "    \n",
    "    Text: [{company_announcement_data}]\n",
    "\"\"\"\n",
    "\n",
    "print(generate_text(prompt))\n"
   ]
  },
  {
   "cell_type": "code",
   "execution_count": null,
   "metadata": {},
   "outputs": [],
   "source": [
    "# Sentiment analysis - attempt 3\n",
    "prompt = f\"\"\"\n",
    "    Your task is to act as a financial analyst. You must detmine the setiment \\\n",
    "        of news releases and the potential impact on the stock price.\n",
    "\n",
    "    All responses must be limited to the text between the square brackets below.\n",
    "    \n",
    "    Text: [{company_announcement_data}]\n",
    "\"\"\"\n",
    "\n",
    "print(generate_text(prompt))\n"
   ]
  },
  {
   "cell_type": "code",
   "execution_count": null,
   "metadata": {},
   "outputs": [],
   "source": [
    "# Sentiment analysis - attempt 4\n",
    "prompt = f\"\"\"\n",
    "    Your task is to act as a financial analyst. You must detmine the setiment \\\n",
    "        of news releases and the potential impact on the stock price.\n",
    "    \n",
    "    In your answer you must:\n",
    "     - Display the sentiment as \"positive\", \"neutral\" or \"negative\".\n",
    "     - You must identify all the companies that are imapcted by the event and display their stick tickers.\n",
    "     - Predict the stock price movement as \"up\", \"no change\" or \"down\" for each the affected companies.\n",
    "     - Provide an explanation of why the stock will move in the predicted direction. \\\n",
    "        Limit the explanation to a maximum of two sentences.\n",
    "\n",
    "    All responses must be limeted to the text between the square brackets below.\n",
    "    \n",
    "    Text: [{company_announcement_data}]\n",
    "\"\"\"\n",
    "\n",
    "print(generate_text(prompt))\n"
   ]
  },
  {
   "attachments": {},
   "cell_type": "markdown",
   "metadata": {},
   "source": [
    "#### Text translation"
   ]
  },
  {
   "cell_type": "code",
   "execution_count": null,
   "metadata": {},
   "outputs": [],
   "source": [
    "# Text translation - attempt 1\n",
    "prompt = f\"\"\"\n",
    "    Summarise the text in the square brackets below in one sentence and translate the sumary to Spanish and French. \n",
    "    \n",
    "    Return the origional summary in your response and include the language above the summary.\n",
    "\n",
    "    All responses must be limited to the text between the square brackets below.\n",
    "    \n",
    "    Text: [{company_announcement_data}]\n",
    "\"\"\"\n",
    "\n",
    "print(generate_text(prompt))\n"
   ]
  },
  {
   "attachments": {},
   "cell_type": "markdown",
   "metadata": {},
   "source": [
    "#### Code generation"
   ]
  },
  {
   "cell_type": "code",
   "execution_count": null,
   "metadata": {},
   "outputs": [],
   "source": [
    "# Code generation - attempt 1\n",
    "prompt = f\"\"\"\n",
    "    Imagine you are a software developer building an application for an e-commerce company \\\n",
    "        that sells products to customers. Generate a mock dataset of transactions suitable for a relational database.\n",
    "\"\"\"\n",
    "\n",
    "print(generate_text(prompt))\n"
   ]
  },
  {
   "cell_type": "code",
   "execution_count": null,
   "metadata": {},
   "outputs": [],
   "source": [
    "# Code generation - attempt 2\n",
    "prompt = f\"\"\"\n",
    "    Imagine you are a software developer building an application for an e-commerce company \\\n",
    "        that sells products to customers. \n",
    "        \n",
    "    You must generate scripts for a mock dataset of transactions suitable for a PosgreSQL \\\n",
    "        database. You must a a minimum of 15 records per table.\n",
    "\"\"\"\n",
    "\n",
    "print(generate_text(prompt))\n"
   ]
  },
  {
   "cell_type": "code",
   "execution_count": null,
   "metadata": {},
   "outputs": [],
   "source": []
  }
 ],
 "metadata": {
  "kernelspec": {
   "display_name": "base",
   "language": "python",
   "name": "python3"
  },
  "language_info": {
   "codemirror_mode": {
    "name": "ipython",
    "version": 3
   },
   "file_extension": ".py",
   "mimetype": "text/x-python",
   "name": "python",
   "nbconvert_exporter": "python",
   "pygments_lexer": "ipython3",
   "version": "3.10.10"
  },
  "orig_nbformat": 4
 },
 "nbformat": 4,
 "nbformat_minor": 2
}
