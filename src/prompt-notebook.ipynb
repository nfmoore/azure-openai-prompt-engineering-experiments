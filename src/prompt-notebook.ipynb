{
 "cells": [
  {
   "attachments": {},
   "cell_type": "markdown",
   "metadata": {},
   "source": [
    "# Prompt Engineering Experiments with GPT-3.5 on Azure OpenAI\n",
    "\n",
    "Prompt engineering is an essential part of working with Azure OpenAI. In this Jupyter notebook, we explore prompt engineering experiments with Azure OpenAI. We will also provide examples of how to use prompt engineering can be used to generate better results across several use-cases. By the end of this notebook, you will have a better understanding of how to use prompt engineering with Azure OpenAI and how it can help you build better models.\n",
    "\n",
    "**Before executing this notebook ensure all dependencies have been installed.**"
   ]
  },
  {
   "attachments": {},
   "cell_type": "markdown",
   "metadata": {},
   "source": [
    "### Load dependencies and connect to Azure OpenAI"
   ]
  },
  {
   "cell_type": "code",
   "execution_count": 11,
   "metadata": {},
   "outputs": [],
   "source": [
    "import os\n",
    "import openai\n",
    "from dotenv import load_dotenv\n",
    "\n",
    "_ = load_dotenv()\n",
    "\n",
    "api_key = os.environ.get('OPENAI_API_KEY')\n",
    "resource_name = os.environ.get('AZURE_RESOURCE_NAME')\n",
    "\n",
    "openai.api_type = \"azure\"\n",
    "openai.api_key = api_key\n",
    "openai.api_base = f\"https://{resource_name}.openai.azure.com/\"\n",
    "openai.api_version = \"2023-07-01-preview\"\n"
   ]
  },
  {
   "attachments": {},
   "cell_type": "markdown",
   "metadata": {},
   "source": [
    "### Setup helper functions"
   ]
  },
  {
   "cell_type": "code",
   "execution_count": 12,
   "metadata": {},
   "outputs": [],
   "source": [
    "def generate_text(prompt: str, model: str = \"gpt-3.5-turbo\"):\n",
    "    deployment_name = os.environ.get('OPENAI_DEPLOYMENT_NAME')\n",
    "    messages = [{\"role\": \"user\", \"content\": prompt}]\n",
    "\n",
    "    # System message: instructions about how the model should respond and any context it should reference when generating a response.\n",
    "    # messages = [{\"role\": \"system\",\n",
    "    #              \"content\": \"You are an AI assistant that helps people find information.\"}],\n",
    "\n",
    "    response = openai.ChatCompletion.create(\n",
    "        engine=deployment_name,\n",
    "        model=\"gpt-3.5-turbo\",\n",
    "        messages=messages,\n",
    "        temperature=0,\n",
    "        max_tokens=2048,\n",
    "        top_p=0.95,\n",
    "        frequency_penalty=0,\n",
    "        presence_penalty=0,\n",
    "        stop=None\n",
    "    )\n",
    "\n",
    "    return response.choices[0].message[\"content\"]\n",
    "\n",
    "\n",
    "def read_txt_file(file_name: str):\n",
    "    with open(file_name, \"r\", encoding=\"utf-8\") as file:\n",
    "        data = file.read()\n",
    "    return data\n"
   ]
  },
  {
   "attachments": {},
   "cell_type": "markdown",
   "metadata": {},
   "source": [
    "### Perform experiments with Azure OpenAI\n",
    "\n",
    "Two publically available texts have been used in these experiments:\n",
    "\n",
    "- [Microsft 2022 Shareholder Letter](https://www.microsoft.com/investor/reports/ar22/download-center/)\n",
    "- [Reuters news article on the Microsoft acquisition of Activision Blizzard](https://www.nasdaq.com/articles/uk-blocks-microsoft-$69-bln-activision-deal-over-cloud-gaming-concerns)"
   ]
  },
  {
   "attachments": {},
   "cell_type": "markdown",
   "metadata": {},
   "source": []
  },
  {
   "cell_type": "code",
   "execution_count": 13,
   "metadata": {},
   "outputs": [],
   "source": [
    "# Load Microsft 2022 Shareholder Letter\n",
    "shareholder_letter_data = read_txt_file(\n",
    "    \"../data/microsoft-2022-shareholder-letter.txt\")\n",
    "\n",
    "# Load Reuters news article on the Microsoft acquisition of Activision Blizzard\n",
    "company_announcement_data = read_txt_file(\n",
    "    \"../data/reuters-microsoft-activision-aquisition-article.txt\")"
   ]
  },
  {
   "attachments": {},
   "cell_type": "markdown",
   "metadata": {},
   "source": [
    "#### Text sumarization"
   ]
  },
  {
   "cell_type": "code",
   "execution_count": 14,
   "metadata": {},
   "outputs": [
    {
     "name": "stdout",
     "output_type": "stream",
     "text": [
      "1. The current economic, societal, and geopolitical changes in the world.\n",
      "2. Microsoft's mission to empower every person and organization to achieve more.\n",
      "3. Examples of how Microsoft's platforms and tools are being used by customers.\n",
      "4. Microsoft's record financial results in fiscal year 2022.\n",
      "5. Microsoft's responsibility to address the world's problems and create a more inclusive, equitable, sustainable, and trusted future.\n",
      "6. Microsoft's efforts to support inclusive economic growth, including digital skills training and cybersecurity.\n",
      "7. Microsoft's commitment to protecting fundamental rights, including democracy, human rights, and racial justice.\n",
      "8. Microsoft's efforts to create a sustainable future, including reducing carbon emissions and protecting land.\n",
      "9. Microsoft's commitment to earning trust through privacy, security, digital safety, responsible use of AI, and transparency.\n",
      "10. Microsoft's focus on delivering on the digital imperative and providing powerful platforms, tools, and services to help organizations in every industry.\n"
     ]
    }
   ],
   "source": [
    "# Text sumarization - attempt 1\n",
    "prompt = f\"\"\"\n",
    "    Summarise ten of the most topics that are being discussed in \\\n",
    "    the text between the square brackets below.\n",
    "\n",
    "    Make sure each summary is a maximum of two sentences. \n",
    "    \n",
    "    Text: [{shareholder_letter_data}]\n",
    "\"\"\"\n",
    "\n",
    "print(generate_text(prompt))"
   ]
  },
  {
   "cell_type": "code",
   "execution_count": 17,
   "metadata": {},
   "outputs": [
    {
     "name": "stdout",
     "output_type": "stream",
     "text": [
      "1. Historic Change: The world is experiencing historic economic, societal, and geopolitical changes, and Microsoft is at a historic intersection of opportunity and responsibility to the world around us.\n",
      "\n",
      "2. Responsibility: Microsoft's purpose and actions must be aligned with addressing the world's problems, not creating new ones. The company must deliver innovation that helps drive broad economic growth and commit to creating a more inclusive, equitable, sustainable, and trusted future.\n",
      "\n",
      "3. Sustainable Future: Microsoft must ensure that economic growth does not come at the expense of the planet. Addressing climate change requires swift, collective action and technical innovation.\n",
      "\n",
      "4. Trust: To drive positive impact and growth with technology, people need to be able to trust the technologies they use and the companies behind them. Microsoft is committed to earning trust in business model alignment with customers and partners, as well as trust in technology, spanning privacy, security, digital safety, the responsible use of AI, and transparency.\n",
      "\n",
      "5. Digital Imperative: Every organization in every industry will need to infuse technology into every business process and function so they can do more with less. Microsoft is delivering powerful platforms, tools, and services that expand its opportunity to help every organization in every industry deliver on the digital imperative—with a business model that is trusted and always aligned with their success.\n"
     ]
    }
   ],
   "source": [
    "# Text sumarization - attempt 2\n",
    "prompt = f\"\"\"\n",
    "    Identify five important themes in the text between the square brackets below and \\\n",
    "        provide a summary of each.\n",
    "\n",
    "    Make sure each summary is a maximum of two sentences. \n",
    "    \n",
    "    To make the response easier to read, format the response as a series of bullet points \\\n",
    "        that start with a key theme and follow with the summary seperated by a colon.\n",
    "        \n",
    "    Text: [{shareholder_letter_data}]\n",
    "\"\"\"\n",
    "\n",
    "print(generate_text(prompt))"
   ]
  },
  {
   "attachments": {},
   "cell_type": "markdown",
   "metadata": {},
   "source": [
    "#### Information retrieval"
   ]
  },
  {
   "cell_type": "code",
   "execution_count": 20,
   "metadata": {},
   "outputs": [
    {
     "name": "stdout",
     "output_type": "stream",
     "text": [
      "- Building Azure as the world's computer, with more than 60 datacenter regions, delivering faster access to cloud services while addressing critical data residency requirements.\n",
      "- Helping organizations turn their data into predictive and analytical power with the most comprehensive data stack, including best-in-class databases and analytics, data governance, and the new Microsoft Intelligent Data Platform.\n",
      "- Continuing to invest in gaming, with the planned acquisition of Activision Blizzard, to give players more choice to play great games wherever, whenever, and however they want.\n"
     ]
    }
   ],
   "source": [
    "# Information retrieval - attempt 1\n",
    "prompt = f\"\"\"\n",
    "    Summarise the three biggest opportunities Microsoft intends to persue in 2023 \\\n",
    "        in the text between the square brackets below.\n",
    "\n",
    "    Make sure each summary is a maximum of one sentences. Display the results as bullet points.\n",
    "    \n",
    "    Text: [{shareholder_letter_data}]\n",
    "\"\"\"\n",
    "\n",
    "print(generate_text(prompt))"
   ]
  },
  {
   "cell_type": "code",
   "execution_count": 24,
   "metadata": {},
   "outputs": [
    {
     "name": "stdout",
     "output_type": "stream",
     "text": [
      "No 2023 opportunities listed.\n"
     ]
    }
   ],
   "source": [
    "# Information retrieval - attempt 2\n",
    "prompt = f\"\"\"\n",
    "    Your job is to extract a maxiumum of the three biggest opportunities Microsoft \\\n",
    "        will persue in the year of 2023 referenced in the text between the square \\\n",
    "        brackets below that are explicity referenced to occur in the year of 2023.\n",
    "    \n",
    "    If the text does not reference an opportunity that will occur in 2023 do not display it. \\\n",
    "        Return \"No 2023 opportunities listed\" if no opportunities are referenced.\n",
    "\n",
    "    Display the results as bullet points.\n",
    "    \n",
    "    Text: [{shareholder_letter_data}]\n",
    "\"\"\"\n",
    "\n",
    "print(generate_text(prompt))"
   ]
  },
  {
   "attachments": {},
   "cell_type": "markdown",
   "metadata": {},
   "source": [
    "#### Entity recognition\n"
   ]
  },
  {
   "cell_type": "code",
   "execution_count": 26,
   "metadata": {},
   "outputs": [
    {
     "name": "stdout",
     "output_type": "stream",
     "text": [
      "- Shareholders\n",
      "- Colleagues\n",
      "- Customers\n",
      "- Partners\n",
      "- Ferrovial\n",
      "- Peace Parks Foundation\n",
      "- Kawasaki Heavy Industries\n",
      "- Globo\n",
      "- Ørsted\n",
      "- Black- and African American-owned suppliers\n",
      "- Developers\n",
      "- Job seekers\n",
      "- Learners\n",
      "- Marketers\n",
      "- Publishers\n",
      "- Netflix\n",
      "- Activision Blizzard\n",
      "- Employees\n",
      "- Nonprofits\n"
     ]
    }
   ],
   "source": [
    "# Entity recognition - attempt 1\n",
    "prompt = f\"\"\"\n",
    "    Identify all entities listed in the text between the square brackets below.\n",
    "    \n",
    "    Text: [{shareholder_letter_data}]\n",
    "\"\"\"\n",
    "\n",
    "print(generate_text(prompt))\n"
   ]
  },
  {
   "cell_type": "code",
   "execution_count": null,
   "metadata": {},
   "outputs": [
    {
     "name": "stdout",
     "output_type": "stream",
     "text": [
      "{\n",
      "    \"entities\": [\n",
      "        \"shareholders\",\n",
      "        \"colleagues\",\n",
      "        \"customers\",\n",
      "        \"partners\",\n",
      "        \"Ferrovial\",\n",
      "        \"Peace Parks Foundation\",\n",
      "        \"Kawasaki Heavy Industries\",\n",
      "        \"Globo\",\n",
      "        \"Ørsted\",\n",
      "        \"Microsoft\",\n",
      "        \"Black- and African American-owned suppliers\",\n",
      "        \"Nuance Communications\",\n",
      "        \"Xandr\",\n",
      "        \"Activision Blizzard\"\n",
      "    ]\n",
      "}\n"
     ]
    }
   ],
   "source": [
    "# Entity recognition - attempt 2\n",
    "prompt = f\"\"\"\n",
    "    Identify all entities listed in the text between the square brackets below.\n",
    "\n",
    "    For the purpose of this task an entiity is defined as a \"person\", \"organization\", or \"location\".\n",
    "\n",
    "    Display the results as JSON.\n",
    "    \n",
    "    Text: [{shareholder_letter_data}]\n",
    "\"\"\"\n",
    "\n",
    "print(generate_text(prompt))\n"
   ]
  },
  {
   "cell_type": "code",
   "execution_count": null,
   "metadata": {},
   "outputs": [
    {
     "name": "stdout",
     "output_type": "stream",
     "text": [
      "{\n",
      "    \"person\": [\n",
      "        \"Satya Nadella\"\n",
      "    ],\n",
      "    \"organization\": [\n",
      "        \"Microsoft\",\n",
      "        \"Ferrovial\",\n",
      "        \"Peace Parks Foundation\",\n",
      "        \"Kawasaki Heavy Industries\",\n",
      "        \"Globo\",\n",
      "        \"Ørsted\",\n",
      "        \"Nuance Communications\",\n",
      "        \"Activision Blizzard\",\n",
      "        \"Thomson Reuters Foundation\",\n",
      "        \"Report for the World\",\n",
      "        \"Xandr\",\n",
      "        \"Netflix\"\n",
      "    ],\n",
      "    \"location\": [\n",
      "        \"Ukraine\",\n",
      "        \"Southern Africa\",\n",
      "        \"Brazil\",\n",
      "        \"United States\",\n",
      "        \"Mexico\"\n",
      "    ]\n",
      "}\n"
     ]
    }
   ],
   "source": [
    "# Entity recognition - attempt 3\n",
    "prompt = f\"\"\"\n",
    "    Identify all entities listed in the text between the square brackets below.\n",
    "\n",
    "    For the purpose of this task an entiity is defined as a \"person\", \"organization\", or \"location\". \\\n",
    "        Limit your response to specific entities - ignore vauge responses like \"employees\".\n",
    "\n",
    "    Display the results as JSON. The key will be the entity type that corresponds to a list of entitiy values.\n",
    "    \n",
    "    Text: [{shareholder_letter_data}]\n",
    "\"\"\"\n",
    "\n",
    "print(generate_text(prompt))\n"
   ]
  },
  {
   "attachments": {},
   "cell_type": "markdown",
   "metadata": {},
   "source": [
    "#### Sentiment analysis"
   ]
  },
  {
   "cell_type": "code",
   "execution_count": null,
   "metadata": {},
   "outputs": [
    {
     "name": "stdout",
     "output_type": "stream",
     "text": [
      "The sentiment of the text is negative.\n"
     ]
    }
   ],
   "source": [
    "\n",
    "# Sentiment analysis - attempt 1\n",
    "prompt = f\"\"\"\n",
    "    What is the sentiment of the text between the square brackets below.\n",
    "    \n",
    "    Text: [{company_announcement_data}]\n",
    "\"\"\"\n",
    "\n",
    "print(generate_text(prompt))\n"
   ]
  },
  {
   "cell_type": "code",
   "execution_count": null,
   "metadata": {},
   "outputs": [
    {
     "name": "stdout",
     "output_type": "stream",
     "text": [
      "Sentiment: Negative\n"
     ]
    }
   ],
   "source": [
    "# Sentiment analysis - attempt 2\n",
    "prompt = f\"\"\"\n",
    "    Your task is to act as a financial analyst and determine the sentiment \\\n",
    "        of of the text between the square brackets below.\n",
    "    \n",
    "    Text: [{company_announcement_data}]\n",
    "\"\"\"\n",
    "\n",
    "print(generate_text(prompt))\n"
   ]
  },
  {
   "cell_type": "code",
   "execution_count": null,
   "metadata": {},
   "outputs": [
    {
     "name": "stdout",
     "output_type": "stream",
     "text": [
      "Sentiment: Negative\n",
      "\n",
      "Potential impact on stock price: The news of the UK blocking Microsoft's acquisition of Activision Blizzard is likely to have a negative impact on Microsoft's stock price. The $69 billion deal would have been a significant acquisition for Microsoft, but the antitrust regulator's concerns about competition in cloud gaming have put a halt to the deal. Microsoft's statement that they will appeal the decision may provide some hope for investors, but the uncertainty surrounding the outcome of the appeal could continue to weigh on the stock price.\n"
     ]
    }
   ],
   "source": [
    "# Sentiment analysis - attempt 3\n",
    "prompt = f\"\"\"\n",
    "    Your task is to act as a financial analyst. You must detmine the setiment \\\n",
    "        of news releases and the potential impact on the stock price.\n",
    "\n",
    "    All responses must be limited to the text between the square brackets below.\n",
    "    \n",
    "    Text: [{company_announcement_data}]\n",
    "\"\"\"\n",
    "\n",
    "print(generate_text(prompt))\n"
   ]
  },
  {
   "cell_type": "code",
   "execution_count": null,
   "metadata": {},
   "outputs": [
    {
     "name": "stdout",
     "output_type": "stream",
     "text": [
      "Sentiment: negative\n",
      "\n",
      "Companies impacted: Microsoft (MSFT), Activision Blizzard (ATVI)\n",
      "\n",
      "Stock price movement:\n",
      "- Microsoft: down\n",
      "- Activision Blizzard: down\n",
      "\n",
      "Explanation: The UK's decision to block Microsoft's acquisition of Activision Blizzard will likely lead to a decrease in the stock prices of both companies as the deal would have provided significant growth opportunities for Microsoft's cloud gaming business.\n"
     ]
    }
   ],
   "source": [
    "# Sentiment analysis - attempt 4\n",
    "prompt = f\"\"\"\n",
    "    Your task is to act as a financial analyst. You must detmine the setiment \\\n",
    "        of news releases and the potential impact on the stock price.\n",
    "    \n",
    "    In your answer you must:\n",
    "     - Display the sentiment as \"positive\", \"neutral\" or \"negative\".\n",
    "     - You must identify all the companies that are imapcted by the event and display their stick tickers.\n",
    "     - Predict the stock price movement as \"up\", \"no change\" or \"down\" for each the affected companies.\n",
    "     - Provide an explanation of why the stock will move in the predicted direction. \\\n",
    "        Limit the explanation to a maximum of two sentences.\n",
    "\n",
    "    All responses must be limeted to the text between the square brackets below.\n",
    "    \n",
    "    Text: [{company_announcement_data}]\n",
    "\"\"\"\n",
    "\n",
    "print(generate_text(prompt))\n"
   ]
  },
  {
   "attachments": {},
   "cell_type": "markdown",
   "metadata": {},
   "source": [
    "#### Text translation"
   ]
  },
  {
   "cell_type": "code",
   "execution_count": null,
   "metadata": {},
   "outputs": [
    {
     "name": "stdout",
     "output_type": "stream",
     "text": [
      "English: The UK has blocked Microsoft's $69 billion acquisition of Activision Blizzard due to concerns over competition in cloud gaming. \n",
      "\n",
      "Spanish: El Reino Unido ha bloqueado la adquisición de Activision Blizzard por parte de Microsoft de $69 mil millones debido a preocupaciones sobre la competencia en los juegos en la nube.\n",
      "\n",
      "French: Le Royaume-Uni a bloqué l'acquisition de 69 milliards de dollars de Microsoft d'Activision Blizzard en raison de préoccupations concernant la concurrence dans le cloud gaming.\n"
     ]
    }
   ],
   "source": [
    "# Text translation - attempt 1\n",
    "prompt = f\"\"\"\n",
    "    Summarise the text in the square brackets below in one sentence and translate the sumary to Spanish and French. \n",
    "    \n",
    "    Return the origional summary in your response and include the language above the summary.\n",
    "\n",
    "    All responses must be limited to the text between the square brackets below.\n",
    "    \n",
    "    Text: [{company_announcement_data}]\n",
    "\"\"\"\n",
    "\n",
    "print(generate_text(prompt))\n"
   ]
  },
  {
   "attachments": {},
   "cell_type": "markdown",
   "metadata": {},
   "source": [
    "#### Code generation"
   ]
  },
  {
   "cell_type": "code",
   "execution_count": null,
   "metadata": {},
   "outputs": [
    {
     "name": "stdout",
     "output_type": "stream",
     "text": [
      "Here is a mock dataset of transactions for an e-commerce company:\n",
      "\n",
      "Table: Customers\n",
      "| CustomerID | FirstName | LastName | Email | Phone |\n",
      "|------------|-----------|----------|-------|-------|\n",
      "| 1          | John      | Smith    | john.smith@email.com | 123-456-7890 |\n",
      "| 2          | Jane      | Doe      | jane.doe@email.com | 987-654-3210 |\n",
      "| 3          | Bob       | Johnson  | bob.johnson@email.com | 555-555-5555 |\n",
      "\n",
      "Table: Products\n",
      "| ProductID | ProductName | Price |\n",
      "|-----------|-------------|-------|\n",
      "| 1         | iPhone 12   | 999   |\n",
      "| 2         | MacBook Pro | 1499  |\n",
      "| 3         | AirPods Pro | 249   |\n",
      "\n",
      "Table: Orders\n",
      "| OrderID | CustomerID | OrderDate |\n",
      "|---------|------------|-----------|\n",
      "| 1       | 1          | 2021-01-01 |\n",
      "| 2       | 2          | 2021-01-02 |\n",
      "| 3       | 3          | 2021-01-03 |\n",
      "\n",
      "Table: OrderDetails\n",
      "| OrderDetailID | OrderID | ProductID | Quantity |\n",
      "|---------------|---------|-----------|----------|\n",
      "| 1             | 1       | 1         | 1        |\n",
      "| 2             | 1       | 2         | 1        |\n",
      "| 3             | 2       | 3         | 2        |\n",
      "| 4             | 3       | 1         | 3        |\n",
      "\n",
      "This dataset includes three tables: Customers, Products, and Orders. The Customers table contains information about the customers, including their ID, first name, last name, email, and phone number. The Products table contains information about the products, including their ID, name, and price. The Orders table contains information about the orders, including their ID, the customer who placed the order, and the date the order was placed.\n",
      "\n",
      "The OrderDetails table is a junction table that connects the Orders and Products tables. It contains information about the products that were ordered, including the order detail ID, the order ID, the product ID, and the quantity of the product that was ordered.\n",
      "\n",
      "This dataset can be used to track customer orders and product sales, as well as to generate reports on customer behavior and product popularity.\n"
     ]
    }
   ],
   "source": [
    "# Code generation - attempt 1\n",
    "prompt = f\"\"\"\n",
    "    Imagine you are a software developer building an application for an e-commerce company \\\n",
    "        that sells products to customers. Generate a mock dataset of transactions suitable for a relational database.\n",
    "\"\"\"\n",
    "\n",
    "print(generate_text(prompt))\n"
   ]
  },
  {
   "cell_type": "code",
   "execution_count": null,
   "metadata": {},
   "outputs": [
    {
     "name": "stdout",
     "output_type": "stream",
     "text": [
      "Here are the scripts for the mock dataset of transactions suitable for a PostgreSQL database:\n",
      "\n",
      "Table: Customers\n",
      "\n",
      "CREATE TABLE Customers (\n",
      "    customer_id SERIAL PRIMARY KEY,\n",
      "    first_name VARCHAR(50) NOT NULL,\n",
      "    last_name VARCHAR(50) NOT NULL,\n",
      "    email VARCHAR(100) NOT NULL,\n",
      "    phone_number VARCHAR(20) NOT NULL,\n",
      "    address VARCHAR(200) NOT NULL,\n",
      "    city VARCHAR(50) NOT NULL,\n",
      "    state VARCHAR(50) NOT NULL,\n",
      "    zip_code VARCHAR(10) NOT NULL\n",
      ");\n",
      "\n",
      "INSERT INTO Customers (first_name, last_name, email, phone_number, address, city, state, zip_code)\n",
      "VALUES \n",
      "('John', 'Doe', 'johndoe@gmail.com', '123-456-7890', '123 Main St', 'Anytown', 'CA', '12345'),\n",
      "('Jane', 'Doe', 'janedoe@gmail.com', '234-567-8901', '456 Oak St', 'Anytown', 'CA', '12345'),\n",
      "('Bob', 'Smith', 'bobsmith@gmail.com', '345-678-9012', '789 Maple St', 'Othertown', 'NY', '67890'),\n",
      "('Alice', 'Johnson', 'alicejohnson@gmail.com', '456-789-0123', '321 Pine St', 'Othertown', 'NY', '67890'),\n",
      "('Mike', 'Brown', 'mikebrown@gmail.com', '567-890-1234', '654 Cedar St', 'Somewhere', 'TX', '45678'),\n",
      "('Sarah', 'Lee', 'sarahlee@gmail.com', '678-901-2345', '987 Elm St', 'Somewhere', 'TX', '45678'),\n",
      "('David', 'Davis', 'daviddavis@gmail.com', '789-012-3456', '159 Oak Ave', 'Nowhere', 'FL', '23456'),\n",
      "('Emily', 'Evans', 'emilyevans@gmail.com', '890-123-4567', '357 Maple Ave', 'Nowhere', 'FL', '23456'),\n",
      "('Tom', 'Thompson', 'tomthompson@gmail.com', '901-234-5678', '753 Pine Ave', 'Anywhere', 'GA', '34567'),\n",
      "('Lisa', 'Lopez', 'lisalopez@gmail.com', '012-345-6789', '951 Cedar Ave', 'Anywhere', 'GA', '34567'),\n",
      "('Mark', 'Miller', 'markmiller@gmail.com', '123-456-7890', '753 Oak Blvd', 'Everywhere', 'IL', '56789'),\n",
      "('Karen', 'Kim', 'karenkim@gmail.com', '234-567-8901', '951 Maple Blvd', 'Everywhere', 'IL', '56789'),\n",
      "('Chris', 'Chen', 'chrischen@gmail.com', '345-678-9012', '357 Pine Blvd', 'Nowhere', 'FL', '23456'),\n",
      "('Amy', 'Adams', 'amyadams@gmail.com', '456-789-0123', '159 Cedar Blvd', 'Nowhere', 'FL', '23456'),\n",
      "('Steve', 'Smith', 'stevesmith@gmail.com', '567-890-1234', '753 Oak St', 'Anywhere', 'GA', '34567');\n",
      "\n",
      "Table: Products\n",
      "\n",
      "CREATE TABLE Products (\n",
      "    product_id SERIAL PRIMARY KEY,\n",
      "    product_name VARCHAR(100) NOT NULL,\n",
      "    description TEXT NOT NULL,\n",
      "    price DECIMAL(10,2) NOT NULL,\n",
      "    stock_quantity INTEGER NOT NULL\n",
      ");\n",
      "\n",
      "INSERT INTO Products (product_name, description, price, stock_quantity)\n",
      "VALUES \n",
      "('iPhone 12', 'The latest iPhone with 5G technology', 999.99, 100),\n",
      "('Samsung Galaxy S21', 'The latest Samsung phone with 5G technology', 899.99, 75),\n",
      "('MacBook Pro', 'The latest MacBook with M1 chip', 1499.99, 50),\n",
      "('Dell XPS 13', 'The latest Dell laptop with 11th Gen Intel Core processors', 1299.99, 25),\n",
      "('Sony PlayStation 5', 'The latest PlayStation with 4K gaming', 499.99, 100),\n",
      "('Xbox Series X', 'The latest Xbox with 4K gaming', 499.99, 75),\n",
      "('Samsung 55\" 4K TV', 'A 55\" TV with 4K resolution', 799.99, 50),\n",
      "('LG 65\" 4K TV', 'A 65\" TV with 4K resolution', 999.99, 25),\n",
      "('Apple Watch Series 6', 'The latest Apple Watch with blood oxygen sensor', 399.99, 100),\n",
      "('Fitbit Charge 4', 'The latest Fitbit with built-in GPS', 149.99, 75),\n",
      "('Bose QuietComfort 35 II', 'Noise-cancelling headphones with Alexa voice control', 299.99, 50),\n",
      "('Sony WH-1000XM4', 'Noise-cancelling headphones with Alexa voice control', 349.99, 25),\n",
      "('Canon EOS R5', 'The latest Canon mirrorless camera with 45MP full-frame sensor', 3899.99, 10),\n",
      "('Nikon Z7 II', 'The latest Nikon mirrorless camera with 45.7MP full-frame sensor', 2999.99, 10),\n",
      "('DJI Mavic Air 2', 'The latest DJI drone with 4K camera', 799.99, 5);\n",
      "\n",
      "Table: Orders\n",
      "\n",
      "CREATE TABLE Orders (\n",
      "    order_id SERIAL PRIMARY KEY,\n",
      "    customer_id INTEGER NOT NULL,\n",
      "    order_date DATE NOT NULL,\n",
      "    total_amount DECIMAL(10,2) NOT NULL,\n",
      "    FOREIGN KEY (customer_id) REFERENCES Customers(customer_id)\n",
      ");\n",
      "\n",
      "INSERT INTO Orders (customer_id, order_date, total_amount)\n",
      "VALUES \n",
      "(1, '2021-01-01', 999.99),\n",
      "(2, '2021-01-02', 899.99),\n",
      "(3, '2021-01-03', 1499.99),\n",
      "(4, '2021-01-04', 1299.99),\n",
      "(5, '2021-01-05', 499.99),\n",
      "(6, '2021-01-06', 499.99),\n",
      "(7, '2021-01-07', 799.99),\n",
      "(8, '2021-01-08', 999.99),\n",
      "(9, '2021-01-09', 399.99),\n",
      "(10, '2021-01-10', 149.99),\n",
      "(11, '2021-01-11', 299.99),\n",
      "(12, '2021-01-12', 349.99),\n",
      "(13, '2021-01-13', 3899.99),\n",
      "(14, '2021-01-14', 2999.99),\n",
      "(15, '2021-01-15', 799.99);\n",
      "\n",
      "Table: Order_Items\n",
      "\n",
      "CREATE TABLE Order_Items (\n",
      "    order_item_id SERIAL PRIMARY KEY,\n",
      "    order_id INTEGER NOT NULL,\n",
      "    product_id INTEGER NOT NULL,\n",
      "    quantity INTEGER NOT NULL,\n",
      "    price DECIMAL(10,2) NOT NULL,\n",
      "    FOREIGN KEY (order_id) REFERENCES Orders(order_id),\n",
      "    FOREIGN KEY (product_id) REFERENCES Products(product_id)\n",
      ");\n",
      "\n",
      "INSERT INTO Order_Items (order_id, product_id, quantity, price)\n",
      "VALUES \n",
      "(1, 1, 1, 999.99),\n",
      "(2, 2, 1, 899.99),\n",
      "(3, 3, 1, 1499.99),\n",
      "(4, 4, 1, 1299.99),\n",
      "(5, 5, 1, 499.99),\n",
      "(6, 6, 1, 499.99),\n",
      "(7, 7, 1, 799.99),\n",
      "(8, 8, 1, 999.99),\n",
      "(9, 9, 1, 399.99),\n",
      "(10, 10, 1, 149.99),\n",
      "(11, 11, 1, 299.99),\n",
      "(12, 12, 1, 349.99),\n",
      "(13, 13, 1, 3899.99),\n",
      "(14, 14, 1, 2999.99),\n",
      "(15, 15, 1, 799.99);\n"
     ]
    }
   ],
   "source": [
    "# Code generation - attempt 2\n",
    "prompt = f\"\"\"\n",
    "    Imagine you are a software developer building an application for an e-commerce company \\\n",
    "        that sells products to customers. \n",
    "        \n",
    "    You must generate scripts for a mock dataset of transactions suitable for a PosgreSQL \\\n",
    "        database. You must a a minimum of 15 records per table.\n",
    "\"\"\"\n",
    "\n",
    "print(generate_text(prompt))\n"
   ]
  },
  {
   "cell_type": "code",
   "execution_count": null,
   "metadata": {},
   "outputs": [],
   "source": []
  }
 ],
 "metadata": {
  "kernelspec": {
   "display_name": "base",
   "language": "python",
   "name": "python3"
  },
  "language_info": {
   "codemirror_mode": {
    "name": "ipython",
    "version": 3
   },
   "file_extension": ".py",
   "mimetype": "text/x-python",
   "name": "python",
   "nbconvert_exporter": "python",
   "pygments_lexer": "ipython3",
   "version": "3.10.0"
  },
  "orig_nbformat": 4
 },
 "nbformat": 4,
 "nbformat_minor": 2
}
